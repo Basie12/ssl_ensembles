{
 "cells": [
  {
   "cell_type": "code",
   "execution_count": 1,
   "metadata": {},
   "outputs": [
    {
     "name": "stderr",
     "output_type": "stream",
     "text": [
      "/home/greg/Envs/ssl_ensembles/lib/python3.5/importlib/_bootstrap.py:222: RuntimeWarning: numpy.dtype size changed, may indicate binary incompatibility. Expected 96, got 88\n",
      "  return f(*args, **kwds)\n",
      "/home/greg/Envs/ssl_ensembles/lib/python3.5/importlib/_bootstrap.py:222: RuntimeWarning: numpy.dtype size changed, may indicate binary incompatibility. Expected 96, got 88\n",
      "  return f(*args, **kwds)\n",
      "/home/greg/Envs/ssl_ensembles/lib/python3.5/importlib/_bootstrap.py:222: RuntimeWarning: numpy.dtype size changed, may indicate binary incompatibility. Expected 96, got 88\n",
      "  return f(*args, **kwds)\n",
      "/home/greg/Envs/ssl_ensembles/lib/python3.5/importlib/_bootstrap.py:222: RuntimeWarning: numpy.dtype size changed, may indicate binary incompatibility. Expected 96, got 88\n",
      "  return f(*args, **kwds)\n",
      "/home/greg/Envs/ssl_ensembles/lib/python3.5/importlib/_bootstrap.py:222: RuntimeWarning: numpy.dtype size changed, may indicate binary incompatibility. Expected 96, got 88\n",
      "  return f(*args, **kwds)\n"
     ]
    }
   ],
   "source": [
    "import os\n",
    "import medusa\n",
    "from pickle import load\n",
    "import pandas as pd\n",
    "from medusa.flux_analysis.deletion import ensemble_single_reaction_deletion"
   ]
  },
  {
   "cell_type": "code",
   "execution_count": 2,
   "metadata": {},
   "outputs": [],
   "source": [
    "# load all ensembles\n",
    "ensembles = {}\n",
    "exclude = ['Bacillus megaterium']\n",
    "for species_file in os.listdir(\"../results/ensembles/\"):\n",
    "    species_name = species_file.split(\".\")[0]\n",
    "    \n",
    "    if species_name not in exclude:\n",
    "        with open(\"../results/ensembles/\"+species_name+\".pickle\",'rb') as infile:\n",
    "            ensembles[species_name] = load(infile)"
   ]
  },
  {
   "cell_type": "code",
   "execution_count": null,
   "metadata": {},
   "outputs": [
    {
     "name": "stdout",
     "output_type": "stream",
     "text": [
      "Starting knockouts for Staphylococcus haemolyticus\n",
      "performing deletions for Staphylococcus haemolyticus_gapfilled_7\n",
      "performing deletions for Staphylococcus haemolyticus_gapfilled_52\n",
      "performing deletions for Staphylococcus haemolyticus_gapfilled_5\n",
      "performing deletions for Staphylococcus haemolyticus_gapfilled_94\n",
      "performing deletions for Staphylococcus haemolyticus_gapfilled_54\n",
      "performing deletions for Staphylococcus haemolyticus_gapfilled_66\n",
      "performing deletions for Staphylococcus haemolyticus_gapfilled_28\n",
      "performing deletions for Staphylococcus haemolyticus_gapfilled_56\n",
      "performing deletions for Staphylococcus haemolyticus_gapfilled_55\n",
      "performing deletions for Staphylococcus haemolyticus_gapfilled_76\n",
      "performing deletions for Staphylococcus haemolyticus_gapfilled_21\n",
      "performing deletions for Staphylococcus haemolyticus_gapfilled_11\n",
      "performing deletions for Staphylococcus haemolyticus_gapfilled_27\n",
      "performing deletions for Staphylococcus haemolyticus_gapfilled_93\n",
      "performing deletions for Staphylococcus haemolyticus_gapfilled_77\n",
      "performing deletions for Staphylococcus haemolyticus_gapfilled_98\n",
      "performing deletions for Staphylococcus haemolyticus_gapfilled_78\n",
      "performing deletions for Staphylococcus haemolyticus_gapfilled_31\n",
      "performing deletions for Staphylococcus haemolyticus_gapfilled_43\n",
      "performing deletions for Staphylococcus haemolyticus_gapfilled_10\n",
      "performing deletions for Staphylococcus haemolyticus_gapfilled_32\n",
      "performing deletions for Staphylococcus haemolyticus_gapfilled_91\n",
      "performing deletions for Staphylococcus haemolyticus_gapfilled_71\n",
      "performing deletions for Staphylococcus haemolyticus_gapfilled_81\n",
      "performing deletions for Staphylococcus haemolyticus_gapfilled_59\n",
      "performing deletions for Staphylococcus haemolyticus_gapfilled_40\n",
      "performing deletions for Staphylococcus haemolyticus_gapfilled_38\n",
      "performing deletions for Staphylococcus haemolyticus_gapfilled_82\n",
      "performing deletions for Staphylococcus haemolyticus_gapfilled_44\n",
      "performing deletions for Staphylococcus haemolyticus_gapfilled_37\n"
     ]
    }
   ],
   "source": [
    "reaction_knockout_results = {}\n",
    "for species in ensembles.keys():\n",
    "    ensemble = ensembles[species]\n",
    "    print(\"Starting knockouts for \" + species)\n",
    "    # make sure all exchange reactions are open to calculate\n",
    "    # growth rate in complete media\n",
    "    ex_rxns = [rxn for rxn in ensemble.base_model.reactions if\n",
    "                  rxn.id.startswith('EX_')]\n",
    "    for rxn in ex_rxns:\n",
    "        rxn.lower_bound = -1000\n",
    "        \n",
    "    reaction_knockout_results[species] = ensemble_single_reaction_deletion(ensemble)"
   ]
  },
  {
   "cell_type": "code",
   "execution_count": null,
   "metadata": {},
   "outputs": [],
   "source": []
  },
  {
   "cell_type": "code",
   "execution_count": null,
   "metadata": {},
   "outputs": [],
   "source": []
  }
 ],
 "metadata": {
  "kernelspec": {
   "display_name": "ssl_ensembles",
   "language": "python",
   "name": "ssl_ensembles"
  },
  "language_info": {
   "codemirror_mode": {
    "name": "ipython",
    "version": 3
   },
   "file_extension": ".py",
   "mimetype": "text/x-python",
   "name": "python",
   "nbconvert_exporter": "python",
   "pygments_lexer": "ipython3",
   "version": "3.5.2"
  }
 },
 "nbformat": 4,
 "nbformat_minor": 2
}
