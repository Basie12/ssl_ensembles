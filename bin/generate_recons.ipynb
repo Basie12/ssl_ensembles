{
 "cells": [
  {
   "cell_type": "code",
   "execution_count": 1,
   "metadata": {},
   "outputs": [
    {
     "name": "stderr",
     "output_type": "stream",
     "text": [
      "/home/greg/Envs/ssl_ensembles/lib/python3.5/importlib/_bootstrap.py:222: RuntimeWarning: numpy.dtype size changed, may indicate binary incompatibility. Expected 96, got 88\n",
      "  return f(*args, **kwds)\n",
      "/home/greg/Envs/ssl_ensembles/lib/python3.5/importlib/_bootstrap.py:222: RuntimeWarning: numpy.dtype size changed, may indicate binary incompatibility. Expected 96, got 88\n",
      "  return f(*args, **kwds)\n",
      "/home/greg/Envs/ssl_ensembles/lib/python3.5/importlib/_bootstrap.py:222: RuntimeWarning: numpy.dtype size changed, may indicate binary incompatibility. Expected 96, got 88\n",
      "  return f(*args, **kwds)\n",
      "/home/greg/Envs/ssl_ensembles/lib/python3.5/importlib/_bootstrap.py:222: RuntimeWarning: numpy.dtype size changed, may indicate binary incompatibility. Expected 96, got 88\n",
      "  return f(*args, **kwds)\n"
     ]
    }
   ],
   "source": [
    "import mackinac\n",
    "import cobra\n",
    "import pandas as pd\n",
    "import json\n",
    "import os"
   ]
  },
  {
   "cell_type": "code",
   "execution_count": 2,
   "metadata": {},
   "outputs": [],
   "source": [
    "# load ID's for each organisms genome\n",
    "id_table = pd.read_table('../data/patric_genomes.csv',sep=',',\\\n",
    "                        dtype='str')\n",
    "species_to_id = dict(zip(id_table[\"Species_name\"],id_table[\"PATRIC_GENOME_ID\"]))"
   ]
  },
  {
   "cell_type": "code",
   "execution_count": 3,
   "metadata": {},
   "outputs": [
    {
     "data": {
      "text/plain": [
       "{'Achromobacter piechaudii': '742159.3',\n",
       " 'Achromobacter xylosoxidans': '85698.28',\n",
       " 'Aeromonas salmonicida': '382245.13',\n",
       " 'Bacillus megaterium': '545693.3',\n",
       " 'Bacillus pumilus': '1408.93',\n",
       " 'Bacillus subtilis subsp. Spizizenii': '655816.3',\n",
       " 'Brachybacterium faecium': '446465.5',\n",
       " 'Brevundimonas diminuta': '751586.3',\n",
       " 'Chryseobacterium gleum': '525257.3',\n",
       " 'Corynebacterium efficiens': '196164.6',\n",
       " 'Corynebacterium glutamicum': '196627.13',\n",
       " 'Enterococcus faecalis': '226185.9',\n",
       " 'Flavobacterium johnsoniae': '376686.10',\n",
       " 'Gordonia bronchialis': '526226.15',\n",
       " 'Haemophilus influenzae': '71421.8',\n",
       " 'Haemophilus parasuis': '557723.8',\n",
       " 'Kytococcus sedentarius': '478801.5',\n",
       " 'Listeria monocytogenes': '169963.11',\n",
       " 'Listeria seeligeri': '683837.3',\n",
       " 'Neisseria flavescens': '546264.5',\n",
       " 'Neisseria gonorrhoeae': '242231.10',\n",
       " 'Neisseria meningitidis': '122586.8',\n",
       " 'Neisseria mucosa': '435832.3',\n",
       " 'Pseudomonas mendocina': '399739.8',\n",
       " 'Pseudomonas putida': '160488.4',\n",
       " 'Pseudomonas stutzeri': '96563.4',\n",
       " 'Ralstonia pickettii': '402626.5',\n",
       " 'Ralstonia solanacearum': '267608.8',\n",
       " 'Salmonella enterica subsp. enterica serovar Typhi': '220341.7',\n",
       " 'Sphingobacterium spiritivorum': '525372.3',\n",
       " 'Staphylococcus aureus': '93061.5',\n",
       " 'Staphylococcus epidermidis': '176280.10',\n",
       " 'Staphylococcus haemolyticus': '279808.8',\n",
       " 'Stenotrophomonas maltophilia': '522373.3',\n",
       " 'Streptococcus equinus': '864569.5',\n",
       " 'Streptococcus gallolyticus': '637909.5',\n",
       " 'Streptococcus mitis': '365659.3',\n",
       " 'Streptococcus oralis': '1282664.3',\n",
       " 'Streptococcus pneumoniae': '171101.6',\n",
       " 'Streptococcus vestibularis': '904306.3'}"
      ]
     },
     "execution_count": 3,
     "metadata": {},
     "output_type": "execute_result"
    }
   ],
   "source": [
    "species_to_id"
   ]
  },
  {
   "cell_type": "code",
   "execution_count": 4,
   "metadata": {},
   "outputs": [
    {
     "name": "stdout",
     "output_type": "stream",
     "text": [
      "patric password: ········\n"
     ]
    },
    {
     "data": {
      "text/plain": [
       "'gregmedlock_seed@patricbrc.org'"
      ]
     },
     "execution_count": 4,
     "metadata": {},
     "output_type": "execute_result"
    }
   ],
   "source": [
    "mackinac.get_token('gregmedlock_seed')\n"
   ]
  },
  {
   "cell_type": "code",
   "execution_count": 5,
   "metadata": {},
   "outputs": [],
   "source": [
    "# grab and save a universal model to be used later for gapfilling. This is a public template available in Mike Mundy's workspace.\n",
    "# The template says \"gramneg\", but there is no difference between the g+ and g- templates other than biomass composition,\n",
    "# which will not be used during gapfilling (the GENREs will already have their own biomass function).\n",
    "gramneg = mackinac.create_universal_model('/mmundy/public/modelsupport/templates/MicrobialNegativeResolved.modeltemplate')\n",
    "cobra.io.save_json_model(gramneg,'../data/universal_mundy.json')"
   ]
  },
  {
   "cell_type": "code",
   "execution_count": 6,
   "metadata": {},
   "outputs": [
    {
     "name": "stdout",
     "output_type": "stream",
     "text": [
      "Reconstructing GENRE for Neisseria mucosa\n",
      "Reconstructing GENRE for Salmonella enterica subsp. enterica serovar Typhi\n",
      "Reconstructing GENRE for Corynebacterium glutamicum\n",
      "Reconstructing GENRE for Flavobacterium johnsoniae\n",
      "Reconstructing GENRE for Aeromonas salmonicida\n",
      "Reconstructing GENRE for Brevundimonas diminuta\n",
      "Reconstructing GENRE for Gordonia bronchialis\n",
      "Reconstructing GENRE for Pseudomonas stutzeri\n"
     ]
    }
   ],
   "source": [
    "# save id's and both names in dictionary\n",
    "name_to_recon_info = {}\n",
    "name_to_gapfill_solution = {}\n",
    "for species in species_to_id.keys():\n",
    "    # Check for an existing GENRE\n",
    "    if species+'.json' not in os.listdir('../data/modelseed_models'):\n",
    "        species_id = species_to_id[species]\n",
    "\n",
    "        # reconstruct model; function returns a dictionary with reconstruction info, NOT the model\n",
    "        print(\"Reconstructing GENRE for \" + species)\n",
    "        recon_info = mackinac.create_patric_model(species_id,species)\n",
    "        name_to_recon_info[species] = recon_info\n",
    "        # Get the reactions contained in the gapfill solution. This is on complete media\n",
    "        name_to_gapfill_solution[species] = mackinac.get_patric_gapfill_solutions(species)[0]\n",
    "        # convert to a cobra model\n",
    "        model = mackinac.create_cobra_model_from_patric_model(species)\n",
    "        # Save model in json format using patric_id\n",
    "        cobra.io.save_json_model(model, '../data/modelseed_models/'+species+'.json')\n",
    "\n",
    "# save conversion dict for id:original_name:SEED_name mapping\n",
    "with open('../data/patric_recon_info.json','w') as jsonfile:\n",
    "    json.dump(name_to_recon_info,jsonfile)\n",
    "    \n",
    "# save the gapfill solutions\n",
    "with open('../data/patric_gapfill_solutions.json','w') as jsonfile:\n",
    "    json.dump(name_to_gapfill_solution,jsonfile)\n",
    "    "
   ]
  },
  {
   "cell_type": "code",
   "execution_count": null,
   "metadata": {},
   "outputs": [],
   "source": []
  }
 ],
 "metadata": {
  "kernelspec": {
   "display_name": "ssl_ensembles",
   "language": "python",
   "name": "ssl_ensembles"
  },
  "language_info": {
   "codemirror_mode": {
    "name": "ipython",
    "version": 3
   },
   "file_extension": ".py",
   "mimetype": "text/x-python",
   "name": "python",
   "nbconvert_exporter": "python",
   "pygments_lexer": "ipython3",
   "version": "3.5.2"
  }
 },
 "nbformat": 4,
 "nbformat_minor": 2
}
