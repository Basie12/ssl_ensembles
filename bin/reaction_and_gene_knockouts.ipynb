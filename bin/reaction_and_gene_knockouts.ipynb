{
 "cells": [
  {
   "cell_type": "code",
   "execution_count": 1,
   "metadata": {},
   "outputs": [
    {
     "name": "stderr",
     "output_type": "stream",
     "text": [
      "/home/greg/Envs/ssl_ensembles/lib/python3.5/importlib/_bootstrap.py:222: RuntimeWarning: numpy.dtype size changed, may indicate binary incompatibility. Expected 96, got 88\n",
      "  return f(*args, **kwds)\n",
      "/home/greg/Envs/ssl_ensembles/lib/python3.5/importlib/_bootstrap.py:222: RuntimeWarning: numpy.dtype size changed, may indicate binary incompatibility. Expected 96, got 88\n",
      "  return f(*args, **kwds)\n",
      "/home/greg/Envs/ssl_ensembles/lib/python3.5/importlib/_bootstrap.py:222: RuntimeWarning: numpy.dtype size changed, may indicate binary incompatibility. Expected 96, got 88\n",
      "  return f(*args, **kwds)\n",
      "/home/greg/Envs/ssl_ensembles/lib/python3.5/importlib/_bootstrap.py:222: RuntimeWarning: numpy.dtype size changed, may indicate binary incompatibility. Expected 96, got 88\n",
      "  return f(*args, **kwds)\n",
      "/home/greg/Envs/ssl_ensembles/lib/python3.5/importlib/_bootstrap.py:222: RuntimeWarning: numpy.dtype size changed, may indicate binary incompatibility. Expected 96, got 88\n",
      "  return f(*args, **kwds)\n"
     ]
    }
   ],
   "source": [
    "import os\n",
    "import medusa\n",
    "from pickle import load\n",
    "import pandas as pd\n",
    "from medusa.flux_analysis.deletion import ensemble_single_reaction_deletion\n",
    "from medusa.flux_analysis.deletion import ensemble_single_gene_deletion\n",
    "\n",
    "import matplotlib.pyplot as plt"
   ]
  },
  {
   "cell_type": "code",
   "execution_count": 2,
   "metadata": {},
   "outputs": [],
   "source": [
    "# load all ensembles\n",
    "ensembles = {}\n",
    "exclude = ['Bacillus megaterium']\n",
    "for species_file in os.listdir(\"../results/ensembles/\"):\n",
    "    species_name = species_file.split(\".\")[0]\n",
    "    \n",
    "    if species_name not in exclude:\n",
    "        with open(\"../results/ensembles/\"+species_name+\".pickle\",'rb') as infile:\n",
    "            ensembles[species_name] = load(infile)"
   ]
  },
  {
   "cell_type": "code",
   "execution_count": null,
   "metadata": {},
   "outputs": [
    {
     "name": "stdout",
     "output_type": "stream",
     "text": [
      "Starting knockouts for Ralstonia pickettii\n",
      "performing deletions for Ralstonia pickettii_gapfilled_61\n",
      "performing deletions for Ralstonia pickettii_gapfilled_65\n",
      "performing deletions for Ralstonia pickettii_gapfilled_7\n",
      "performing deletions for Ralstonia pickettii_gapfilled_46\n",
      "performing deletions for Ralstonia pickettii_gapfilled_97\n",
      "performing deletions for Ralstonia pickettii_gapfilled_59\n",
      "performing deletions for Ralstonia pickettii_gapfilled_70\n",
      "performing deletions for Ralstonia pickettii_gapfilled_47\n",
      "performing deletions for Ralstonia pickettii_gapfilled_54\n",
      "performing deletions for Ralstonia pickettii_gapfilled_85\n",
      "performing deletions for Ralstonia pickettii_gapfilled_25\n",
      "performing deletions for Ralstonia pickettii_gapfilled_34\n",
      "performing deletions for Ralstonia pickettii_gapfilled_50\n",
      "performing deletions for Ralstonia pickettii_gapfilled_26\n",
      "performing deletions for Ralstonia pickettii_gapfilled_31\n",
      "performing deletions for Ralstonia pickettii_gapfilled_93\n",
      "performing deletions for Ralstonia pickettii_gapfilled_92\n",
      "performing deletions for Ralstonia pickettii_gapfilled_42\n",
      "performing deletions for Ralstonia pickettii_gapfilled_33\n",
      "performing deletions for Ralstonia pickettii_gapfilled_84\n",
      "performing deletions for Ralstonia pickettii_gapfilled_58\n",
      "performing deletions for Ralstonia pickettii_gapfilled_79\n",
      "performing deletions for Ralstonia pickettii_gapfilled_66\n",
      "performing deletions for Ralstonia pickettii_gapfilled_10\n",
      "performing deletions for Ralstonia pickettii_gapfilled_64\n",
      "performing deletions for Ralstonia pickettii_gapfilled_88\n",
      "performing deletions for Ralstonia pickettii_gapfilled_32\n",
      "performing deletions for Ralstonia pickettii_gapfilled_81\n",
      "performing deletions for Ralstonia pickettii_gapfilled_36\n",
      "performing deletions for Ralstonia pickettii_gapfilled_40\n",
      "performing deletions for Ralstonia pickettii_gapfilled_23\n",
      "performing deletions for Ralstonia pickettii_gapfilled_68\n",
      "performing deletions for Ralstonia pickettii_gapfilled_77\n",
      "performing deletions for Ralstonia pickettii_gapfilled_24\n",
      "performing deletions for Ralstonia pickettii_gapfilled_4\n"
     ]
    }
   ],
   "source": [
    "reaction_knockout_results = {}\n",
    "for species in ensembles.keys():\n",
    "    ensemble = ensembles[species]\n",
    "    print(\"Starting knockouts for \" + species)\n",
    "    # make sure all exchange reactions are open to calculate\n",
    "    # growth rate in complete media\n",
    "    ex_rxns = [rxn for rxn in ensemble.base_model.reactions if\n",
    "                  rxn.id.startswith('EX_')]\n",
    "    for rxn in ex_rxns:\n",
    "        rxn.lower_bound = -1000\n",
    "        \n",
    "    reaction_knockout_results[species] = ensemble_single_reaction_deletion(ensemble)\n",
    "    species_df = pd.DataFrame()\n",
    "    for member in reaction_knockout_results:\n",
    "        reaction_knockout_results[member].index = [\n",
    "            list(reaction)[0] for reaction in reaction_knockout_results[member].index]\n",
    "        species_df[member] = reaction_knockout_results[member]['growth']\n",
    "    species_df.to_csv('../results/reaction_knockouts/'+species+'.csv',sep=',')"
   ]
  },
  {
   "cell_type": "code",
   "execution_count": null,
   "metadata": {},
   "outputs": [],
   "source": [
    "gene_knockout_results = {}\n",
    "for species in ensembles.keys():\n",
    "    if not species == 'Pseudomonas mendocina':\n",
    "        ensemble = ensembles[species]\n",
    "        print(\"Starting knockouts for \" + species)\n",
    "        # make sure all exchange reactions are open to calculate\n",
    "        # growth rate in complete media\n",
    "        ex_rxns = [rxn for rxn in ensemble.base_model.reactions if\n",
    "                      rxn.id.startswith('EX_')]\n",
    "        for rxn in ex_rxns:\n",
    "            rxn.lower_bound = -1000\n",
    "\n",
    "        gene_knockout_results = ensemble_single_gene_deletion(ensemble)\n",
    "        species_df = pd.DataFrame()\n",
    "        for member in gene_knockout_results:\n",
    "            gene_knockout_results[member].index = [list(gene)[0] for gene in gene_knockout_results[member].index]\n",
    "            species_df[member] = gene_knockout_results[member]['growth']\n",
    "        species_df.to_csv('../results/gene_knockouts/'+species+'.csv',sep=',')"
   ]
  }
 ],
 "metadata": {
  "kernelspec": {
   "display_name": "ssl_ensembles",
   "language": "python",
   "name": "ssl_ensembles"
  },
  "language_info": {
   "codemirror_mode": {
    "name": "ipython",
    "version": 3
   },
   "file_extension": ".py",
   "mimetype": "text/x-python",
   "name": "python",
   "nbconvert_exporter": "python",
   "pygments_lexer": "ipython3",
   "version": "3.5.2"
  }
 },
 "nbformat": 4,
 "nbformat_minor": 2
}
